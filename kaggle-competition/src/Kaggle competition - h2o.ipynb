{
 "cells": [
  {
   "cell_type": "markdown",
   "metadata": {},
   "source": [
    "# Kaggle Competition - h2o"
   ]
  },
  {
   "cell_type": "code",
   "execution_count": 1,
   "metadata": {},
   "outputs": [
    {
     "name": "stdout",
     "output_type": "stream",
     "text": [
      "Checking whether there is an H2O instance running at http://localhost:54321 ..... not found.\n",
      "Attempting to start a local H2O server...\n",
      "  Java Version: openjdk version \"11.0.2\" 2019-01-15; OpenJDK Runtime Environment 18.9 (build 11.0.2+9); OpenJDK 64-Bit Server VM 18.9 (build 11.0.2+9, mixed mode)\n",
      "  Starting server from /usr/local/lib/python3.7/site-packages/h2o/backend/bin/h2o.jar\n",
      "  Ice root: /var/folders/ys/69ly40l535g54jmcdws91jbh0000gn/T/tmprjzgnr3o\n",
      "  JVM stdout: /var/folders/ys/69ly40l535g54jmcdws91jbh0000gn/T/tmprjzgnr3o/h2o_ana_started_from_python.out\n",
      "  JVM stderr: /var/folders/ys/69ly40l535g54jmcdws91jbh0000gn/T/tmprjzgnr3o/h2o_ana_started_from_python.err\n",
      "  Server is running at http://127.0.0.1:54321\n",
      "Connecting to H2O server at http://127.0.0.1:54321 ... successful.\n"
     ]
    },
    {
     "data": {
      "text/html": [
       "<div style=\"overflow:auto\"><table style=\"width:50%\"><tr><td>H2O_cluster_uptime:</td>\n",
       "<td>03 secs</td></tr>\n",
       "<tr><td>H2O_cluster_timezone:</td>\n",
       "<td>Europe/Madrid</td></tr>\n",
       "<tr><td>H2O_data_parsing_timezone:</td>\n",
       "<td>UTC</td></tr>\n",
       "<tr><td>H2O_cluster_version:</td>\n",
       "<td>3.30.0.2</td></tr>\n",
       "<tr><td>H2O_cluster_version_age:</td>\n",
       "<td>12 days </td></tr>\n",
       "<tr><td>H2O_cluster_name:</td>\n",
       "<td>H2O_from_python_ana_fgel9v</td></tr>\n",
       "<tr><td>H2O_cluster_total_nodes:</td>\n",
       "<td>1</td></tr>\n",
       "<tr><td>H2O_cluster_free_memory:</td>\n",
       "<td>2 Gb</td></tr>\n",
       "<tr><td>H2O_cluster_total_cores:</td>\n",
       "<td>4</td></tr>\n",
       "<tr><td>H2O_cluster_allowed_cores:</td>\n",
       "<td>4</td></tr>\n",
       "<tr><td>H2O_cluster_status:</td>\n",
       "<td>accepting new members, healthy</td></tr>\n",
       "<tr><td>H2O_connection_url:</td>\n",
       "<td>http://127.0.0.1:54321</td></tr>\n",
       "<tr><td>H2O_connection_proxy:</td>\n",
       "<td>{\"http\": null, \"https\": null}</td></tr>\n",
       "<tr><td>H2O_internal_security:</td>\n",
       "<td>False</td></tr>\n",
       "<tr><td>H2O_API_Extensions:</td>\n",
       "<td>Amazon S3, XGBoost, Algos, AutoML, Core V3, TargetEncoder, Core V4</td></tr>\n",
       "<tr><td>Python_version:</td>\n",
       "<td>3.7.7 final</td></tr></table></div>"
      ],
      "text/plain": [
       "--------------------------  ------------------------------------------------------------------\n",
       "H2O_cluster_uptime:         03 secs\n",
       "H2O_cluster_timezone:       Europe/Madrid\n",
       "H2O_data_parsing_timezone:  UTC\n",
       "H2O_cluster_version:        3.30.0.2\n",
       "H2O_cluster_version_age:    12 days\n",
       "H2O_cluster_name:           H2O_from_python_ana_fgel9v\n",
       "H2O_cluster_total_nodes:    1\n",
       "H2O_cluster_free_memory:    2 Gb\n",
       "H2O_cluster_total_cores:    4\n",
       "H2O_cluster_allowed_cores:  4\n",
       "H2O_cluster_status:         accepting new members, healthy\n",
       "H2O_connection_url:         http://127.0.0.1:54321\n",
       "H2O_connection_proxy:       {\"http\": null, \"https\": null}\n",
       "H2O_internal_security:      False\n",
       "H2O_API_Extensions:         Amazon S3, XGBoost, Algos, AutoML, Core V3, TargetEncoder, Core V4\n",
       "Python_version:             3.7.7 final\n",
       "--------------------------  ------------------------------------------------------------------"
      ]
     },
     "metadata": {},
     "output_type": "display_data"
    }
   ],
   "source": [
    "import pandas as pd\n",
    "import numpy as np\n",
    "import h2o\n",
    "\n",
    "from process_fun import *\n",
    "from train_fun import *\n",
    "\n",
    "from h2o.automl import H2OAutoML\n",
    "from sklearn.model_selection import train_test_split\n",
    "h2o.init()"
   ]
  },
  {
   "cell_type": "markdown",
   "metadata": {},
   "source": [
    "### Preparing data"
   ]
  },
  {
   "cell_type": "code",
   "execution_count": 2,
   "metadata": {},
   "outputs": [],
   "source": [
    "d_train = pd.read_csv(\"../input/diamonds-datamad0320/diamonds_train.csv\")\n",
    "d_test = pd.read_csv(\"../input/diamonds-datamad0320/diamonds_test.csv\")"
   ]
  },
  {
   "cell_type": "code",
   "execution_count": 3,
   "metadata": {},
   "outputs": [
    {
     "data": {
      "text/html": [
       "<div>\n",
       "<style scoped>\n",
       "    .dataframe tbody tr th:only-of-type {\n",
       "        vertical-align: middle;\n",
       "    }\n",
       "\n",
       "    .dataframe tbody tr th {\n",
       "        vertical-align: top;\n",
       "    }\n",
       "\n",
       "    .dataframe thead th {\n",
       "        text-align: right;\n",
       "    }\n",
       "</style>\n",
       "<table border=\"1\" class=\"dataframe\">\n",
       "  <thead>\n",
       "    <tr style=\"text-align: right;\">\n",
       "      <th></th>\n",
       "      <th>carat</th>\n",
       "      <th>cut</th>\n",
       "      <th>color</th>\n",
       "      <th>clarity</th>\n",
       "      <th>depth</th>\n",
       "      <th>table</th>\n",
       "      <th>price</th>\n",
       "    </tr>\n",
       "  </thead>\n",
       "  <tbody>\n",
       "    <tr>\n",
       "      <th>0</th>\n",
       "      <td>1.21</td>\n",
       "      <td>5</td>\n",
       "      <td>3</td>\n",
       "      <td>4</td>\n",
       "      <td>63.0</td>\n",
       "      <td>57.0</td>\n",
       "      <td>6134</td>\n",
       "    </tr>\n",
       "    <tr>\n",
       "      <th>1</th>\n",
       "      <td>0.28</td>\n",
       "      <td>3</td>\n",
       "      <td>7</td>\n",
       "      <td>6</td>\n",
       "      <td>64.0</td>\n",
       "      <td>56.0</td>\n",
       "      <td>532</td>\n",
       "    </tr>\n",
       "    <tr>\n",
       "      <th>2</th>\n",
       "      <td>0.42</td>\n",
       "      <td>4</td>\n",
       "      <td>5</td>\n",
       "      <td>5</td>\n",
       "      <td>61.2</td>\n",
       "      <td>58.0</td>\n",
       "      <td>1103</td>\n",
       "    </tr>\n",
       "  </tbody>\n",
       "</table>\n",
       "</div>"
      ],
      "text/plain": [
       "   carat  cut  color  clarity  depth  table  price\n",
       "0   1.21    5      3        4   63.0   57.0   6134\n",
       "1   0.28    3      7        6   64.0   56.0    532\n",
       "2   0.42    4      5        5   61.2   58.0   1103"
      ]
     },
     "execution_count": 3,
     "metadata": {},
     "output_type": "execute_result"
    }
   ],
   "source": [
    "d_train.drop(columns=['x', 'y', 'z','Unnamed: 0'],inplace=True)\n",
    "\n",
    "cutlis=['Fair', 'Good', 'Very Good', 'Premium', 'Ideal']\n",
    "to_num_con(d_train, 'cut', cutlis)\n",
    "\n",
    "colorlis = ['J','I','H','G','F','E','D']\n",
    "to_num_con(d_train, 'color', colorlis)\n",
    "\n",
    "clalis = ['I1','SI2','SI1','VS2','VS1','VVS2','VVS1','IF']\n",
    "to_num_con(d_train, 'clarity', clalis) \n",
    "\n",
    "d_train.head(3)"
   ]
  },
  {
   "cell_type": "code",
   "execution_count": 4,
   "metadata": {},
   "outputs": [
    {
     "data": {
      "text/html": [
       "<div>\n",
       "<style scoped>\n",
       "    .dataframe tbody tr th:only-of-type {\n",
       "        vertical-align: middle;\n",
       "    }\n",
       "\n",
       "    .dataframe tbody tr th {\n",
       "        vertical-align: top;\n",
       "    }\n",
       "\n",
       "    .dataframe thead th {\n",
       "        text-align: right;\n",
       "    }\n",
       "</style>\n",
       "<table border=\"1\" class=\"dataframe\">\n",
       "  <thead>\n",
       "    <tr style=\"text-align: right;\">\n",
       "      <th></th>\n",
       "      <th>carat</th>\n",
       "      <th>cut</th>\n",
       "      <th>color</th>\n",
       "      <th>clarity</th>\n",
       "      <th>depth</th>\n",
       "      <th>table</th>\n",
       "    </tr>\n",
       "  </thead>\n",
       "  <tbody>\n",
       "    <tr>\n",
       "      <th>0</th>\n",
       "      <td>0.30</td>\n",
       "      <td>5</td>\n",
       "      <td>3</td>\n",
       "      <td>2</td>\n",
       "      <td>60.0</td>\n",
       "      <td>56.0</td>\n",
       "    </tr>\n",
       "    <tr>\n",
       "      <th>1</th>\n",
       "      <td>0.34</td>\n",
       "      <td>5</td>\n",
       "      <td>7</td>\n",
       "      <td>8</td>\n",
       "      <td>62.1</td>\n",
       "      <td>57.0</td>\n",
       "    </tr>\n",
       "    <tr>\n",
       "      <th>2</th>\n",
       "      <td>1.57</td>\n",
       "      <td>3</td>\n",
       "      <td>2</td>\n",
       "      <td>4</td>\n",
       "      <td>60.3</td>\n",
       "      <td>58.0</td>\n",
       "    </tr>\n",
       "  </tbody>\n",
       "</table>\n",
       "</div>"
      ],
      "text/plain": [
       "   carat  cut  color  clarity  depth  table\n",
       "0   0.30    5      3        2   60.0   56.0\n",
       "1   0.34    5      7        8   62.1   57.0\n",
       "2   1.57    3      2        4   60.3   58.0"
      ]
     },
     "execution_count": 4,
     "metadata": {},
     "output_type": "execute_result"
    }
   ],
   "source": [
    "d_test.drop(columns=['x', 'y', 'z','Unnamed: 0'],inplace=True)\n",
    "\n",
    "to_num_con(d_test, 'cut', cutlis)\n",
    "to_num_con(d_test, 'color', colorlis)\n",
    "to_num_con(d_test, 'clarity', clalis) \n",
    "\n",
    "d_test.head(3)"
   ]
  },
  {
   "cell_type": "code",
   "execution_count": 5,
   "metadata": {},
   "outputs": [
    {
     "data": {
      "text/html": [
       "<div>\n",
       "<style scoped>\n",
       "    .dataframe tbody tr th:only-of-type {\n",
       "        vertical-align: middle;\n",
       "    }\n",
       "\n",
       "    .dataframe tbody tr th {\n",
       "        vertical-align: top;\n",
       "    }\n",
       "\n",
       "    .dataframe thead tr th {\n",
       "        text-align: left;\n",
       "    }\n",
       "</style>\n",
       "<table border=\"1\" class=\"dataframe\">\n",
       "  <thead>\n",
       "    <tr>\n",
       "      <th></th>\n",
       "      <th>carat</th>\n",
       "      <th>cut</th>\n",
       "      <th>color</th>\n",
       "      <th>clarity</th>\n",
       "      <th>depth</th>\n",
       "      <th>table</th>\n",
       "    </tr>\n",
       "  </thead>\n",
       "  <tbody>\n",
       "    <tr>\n",
       "      <th>0</th>\n",
       "      <td>0.880093</td>\n",
       "      <td>0.982962</td>\n",
       "      <td>-0.833658</td>\n",
       "      <td>-0.035196</td>\n",
       "      <td>0.877395</td>\n",
       "      <td>-0.205924</td>\n",
       "    </tr>\n",
       "    <tr>\n",
       "      <th>1</th>\n",
       "      <td>-1.095267</td>\n",
       "      <td>-0.809998</td>\n",
       "      <td>1.525915</td>\n",
       "      <td>1.177942</td>\n",
       "      <td>1.579543</td>\n",
       "      <td>-0.653290</td>\n",
       "    </tr>\n",
       "    <tr>\n",
       "      <th>2</th>\n",
       "      <td>-0.797901</td>\n",
       "      <td>0.086482</td>\n",
       "      <td>0.346128</td>\n",
       "      <td>0.571373</td>\n",
       "      <td>-0.386471</td>\n",
       "      <td>0.241442</td>\n",
       "    </tr>\n",
       "  </tbody>\n",
       "</table>\n",
       "</div>"
      ],
      "text/plain": [
       "      carat       cut     color   clarity     depth     table\n",
       "0  0.880093  0.982962 -0.833658 -0.035196  0.877395 -0.205924\n",
       "1 -1.095267 -0.809998  1.525915  1.177942  1.579543 -0.653290\n",
       "2 -0.797901  0.086482  0.346128  0.571373 -0.386471  0.241442"
      ]
     },
     "execution_count": 5,
     "metadata": {},
     "output_type": "execute_result"
    }
   ],
   "source": [
    "X = norm(d_train.drop(columns=['price']))\n",
    "y = d_train['price']\n",
    "X.head(3)"
   ]
  },
  {
   "cell_type": "code",
   "execution_count": 6,
   "metadata": {},
   "outputs": [],
   "source": [
    "X_train, X_test, y_train, y_test = train_test_split(X, y, test_size=0.2)"
   ]
  },
  {
   "cell_type": "code",
   "execution_count": 7,
   "metadata": {},
   "outputs": [
    {
     "data": {
      "text/html": [
       "<div>\n",
       "<style scoped>\n",
       "    .dataframe tbody tr th:only-of-type {\n",
       "        vertical-align: middle;\n",
       "    }\n",
       "\n",
       "    .dataframe tbody tr th {\n",
       "        vertical-align: top;\n",
       "    }\n",
       "\n",
       "    .dataframe thead tr th {\n",
       "        text-align: left;\n",
       "    }\n",
       "</style>\n",
       "<table border=\"1\" class=\"dataframe\">\n",
       "  <thead>\n",
       "    <tr>\n",
       "      <th></th>\n",
       "      <th>carat</th>\n",
       "      <th>cut</th>\n",
       "      <th>color</th>\n",
       "      <th>clarity</th>\n",
       "      <th>depth</th>\n",
       "      <th>table</th>\n",
       "    </tr>\n",
       "  </thead>\n",
       "  <tbody>\n",
       "    <tr>\n",
       "      <th>0</th>\n",
       "      <td>-1.048154</td>\n",
       "      <td>0.978650</td>\n",
       "      <td>-0.805754</td>\n",
       "      <td>-1.238972</td>\n",
       "      <td>-1.203383</td>\n",
       "      <td>-0.651290</td>\n",
       "    </tr>\n",
       "    <tr>\n",
       "      <th>1</th>\n",
       "      <td>-0.964994</td>\n",
       "      <td>0.978650</td>\n",
       "      <td>1.521942</td>\n",
       "      <td>2.416515</td>\n",
       "      <td>0.248074</td>\n",
       "      <td>-0.202597</td>\n",
       "    </tr>\n",
       "    <tr>\n",
       "      <th>2</th>\n",
       "      <td>1.592168</td>\n",
       "      <td>-0.810376</td>\n",
       "      <td>-1.387678</td>\n",
       "      <td>-0.020476</td>\n",
       "      <td>-0.996032</td>\n",
       "      <td>0.246095</td>\n",
       "    </tr>\n",
       "  </tbody>\n",
       "</table>\n",
       "</div>"
      ],
      "text/plain": [
       "      carat       cut     color   clarity     depth     table\n",
       "0 -1.048154  0.978650 -0.805754 -1.238972 -1.203383 -0.651290\n",
       "1 -0.964994  0.978650  1.521942  2.416515  0.248074 -0.202597\n",
       "2  1.592168 -0.810376 -1.387678 -0.020476 -0.996032  0.246095"
      ]
     },
     "execution_count": 7,
     "metadata": {},
     "output_type": "execute_result"
    }
   ],
   "source": [
    "d_test = norm(d_test)\n",
    "d_test.head(3)"
   ]
  },
  {
   "cell_type": "code",
   "execution_count": 8,
   "metadata": {},
   "outputs": [],
   "source": [
    "d_train.to_csv('../output/diamonds_train.csv',index=False)\n",
    "d_test.to_csv('../output/diamonds_test.csv',index=False)"
   ]
  },
  {
   "cell_type": "markdown",
   "metadata": {},
   "source": [
    "## 4. Select correct parameters"
   ]
  },
  {
   "cell_type": "code",
   "execution_count": 74,
   "metadata": {},
   "outputs": [
    {
     "name": "stdout",
     "output_type": "stream",
     "text": [
      "Parse progress: |█████████████████████████████████████████████████████████| 100%\n",
      "Parse progress: |█████████████████████████████████████████████████████████| 100%\n"
     ]
    }
   ],
   "source": [
    "df = h2o.import_file('../output/diamonds_train.csv')\n",
    "df_test = h2o.import_file('../output/diamonds_test.csv')"
   ]
  },
  {
   "cell_type": "code",
   "execution_count": 75,
   "metadata": {},
   "outputs": [
    {
     "data": {
      "text/html": [
       "<table>\n",
       "<thead>\n",
       "<tr><th style=\"text-align: right;\">  carat</th><th style=\"text-align: right;\">  cut</th><th style=\"text-align: right;\">  color</th><th style=\"text-align: right;\">  clarity</th><th style=\"text-align: right;\">  depth</th><th style=\"text-align: right;\">  table</th><th style=\"text-align: right;\">  price</th></tr>\n",
       "</thead>\n",
       "<tbody>\n",
       "<tr><td style=\"text-align: right;\">   1.21</td><td style=\"text-align: right;\">    5</td><td style=\"text-align: right;\">      3</td><td style=\"text-align: right;\">        4</td><td style=\"text-align: right;\">   63  </td><td style=\"text-align: right;\">     57</td><td style=\"text-align: right;\">   6134</td></tr>\n",
       "<tr><td style=\"text-align: right;\">   0.28</td><td style=\"text-align: right;\">    3</td><td style=\"text-align: right;\">      7</td><td style=\"text-align: right;\">        6</td><td style=\"text-align: right;\">   64  </td><td style=\"text-align: right;\">     56</td><td style=\"text-align: right;\">    532</td></tr>\n",
       "<tr><td style=\"text-align: right;\">   0.42</td><td style=\"text-align: right;\">    4</td><td style=\"text-align: right;\">      5</td><td style=\"text-align: right;\">        5</td><td style=\"text-align: right;\">   61.2</td><td style=\"text-align: right;\">     58</td><td style=\"text-align: right;\">   1103</td></tr>\n",
       "</tbody>\n",
       "</table>"
      ]
     },
     "metadata": {},
     "output_type": "display_data"
    },
    {
     "data": {
      "text/plain": []
     },
     "execution_count": 75,
     "metadata": {},
     "output_type": "execute_result"
    }
   ],
   "source": [
    "df.head(3)"
   ]
  },
  {
   "cell_type": "code",
   "execution_count": 76,
   "metadata": {},
   "outputs": [],
   "source": [
    "splits = df.split_frame(ratios=[0.8],seed=1)\n",
    "train = splits[0]\n",
    "test = splits[1]"
   ]
  },
  {
   "cell_type": "code",
   "execution_count": 77,
   "metadata": {},
   "outputs": [
    {
     "data": {
      "text/plain": [
       "32378"
      ]
     },
     "execution_count": 77,
     "metadata": {},
     "output_type": "execute_result"
    }
   ],
   "source": [
    "len(train)"
   ]
  },
  {
   "cell_type": "code",
   "execution_count": 82,
   "metadata": {},
   "outputs": [
    {
     "data": {
      "text/html": [
       "<table>\n",
       "<thead>\n",
       "<tr><th style=\"text-align: right;\">  carat</th><th style=\"text-align: right;\">  cut</th><th style=\"text-align: right;\">  color</th><th style=\"text-align: right;\">  clarity</th><th style=\"text-align: right;\">  depth</th><th style=\"text-align: right;\">  table</th><th style=\"text-align: right;\">  price</th></tr>\n",
       "</thead>\n",
       "<tbody>\n",
       "<tr><td style=\"text-align: right;\">   0.42</td><td style=\"text-align: right;\">    4</td><td style=\"text-align: right;\">      5</td><td style=\"text-align: right;\">        5</td><td style=\"text-align: right;\">   61.2</td><td style=\"text-align: right;\">   58  </td><td style=\"text-align: right;\">   1103</td></tr>\n",
       "<tr><td style=\"text-align: right;\">   1.22</td><td style=\"text-align: right;\">    5</td><td style=\"text-align: right;\">      2</td><td style=\"text-align: right;\">        5</td><td style=\"text-align: right;\">   61.9</td><td style=\"text-align: right;\">   55.7</td><td style=\"text-align: right;\">   6469</td></tr>\n",
       "<tr><td style=\"text-align: right;\">   0.31</td><td style=\"text-align: right;\">    5</td><td style=\"text-align: right;\">      6</td><td style=\"text-align: right;\">        6</td><td style=\"text-align: right;\">   62.4</td><td style=\"text-align: right;\">   53  </td><td style=\"text-align: right;\">    791</td></tr>\n",
       "<tr><td style=\"text-align: right;\">   2.02</td><td style=\"text-align: right;\">    4</td><td style=\"text-align: right;\">      6</td><td style=\"text-align: right;\">        2</td><td style=\"text-align: right;\">   59.8</td><td style=\"text-align: right;\">   58  </td><td style=\"text-align: right;\">  17825</td></tr>\n",
       "<tr><td style=\"text-align: right;\">   0.33</td><td style=\"text-align: right;\">    5</td><td style=\"text-align: right;\">      3</td><td style=\"text-align: right;\">        3</td><td style=\"text-align: right;\">   63  </td><td style=\"text-align: right;\">   57  </td><td style=\"text-align: right;\">    610</td></tr>\n",
       "<tr><td style=\"text-align: right;\">   1.02</td><td style=\"text-align: right;\">    4</td><td style=\"text-align: right;\">      7</td><td style=\"text-align: right;\">        6</td><td style=\"text-align: right;\">   61.4</td><td style=\"text-align: right;\">   58  </td><td style=\"text-align: right;\">  10580</td></tr>\n",
       "<tr><td style=\"text-align: right;\">   0.39</td><td style=\"text-align: right;\">    4</td><td style=\"text-align: right;\">      5</td><td style=\"text-align: right;\">        5</td><td style=\"text-align: right;\">   60.6</td><td style=\"text-align: right;\">   55  </td><td style=\"text-align: right;\">   1092</td></tr>\n",
       "<tr><td style=\"text-align: right;\">   0.33</td><td style=\"text-align: right;\">    4</td><td style=\"text-align: right;\">      5</td><td style=\"text-align: right;\">        4</td><td style=\"text-align: right;\">   62.4</td><td style=\"text-align: right;\">   58  </td><td style=\"text-align: right;\">    666</td></tr>\n",
       "<tr><td style=\"text-align: right;\">   1.28</td><td style=\"text-align: right;\">    5</td><td style=\"text-align: right;\">      5</td><td style=\"text-align: right;\">        5</td><td style=\"text-align: right;\">   61.7</td><td style=\"text-align: right;\">   55  </td><td style=\"text-align: right;\">  11580</td></tr>\n",
       "<tr><td style=\"text-align: right;\">   1.05</td><td style=\"text-align: right;\">    2</td><td style=\"text-align: right;\">      6</td><td style=\"text-align: right;\">        5</td><td style=\"text-align: right;\">   63.1</td><td style=\"text-align: right;\">   59  </td><td style=\"text-align: right;\">   7826</td></tr>\n",
       "</tbody>\n",
       "</table>"
      ]
     },
     "metadata": {},
     "output_type": "display_data"
    },
    {
     "data": {
      "text/plain": []
     },
     "execution_count": 82,
     "metadata": {},
     "output_type": "execute_result"
    }
   ],
   "source": [
    "test.head()"
   ]
  },
  {
   "cell_type": "code",
   "execution_count": 79,
   "metadata": {},
   "outputs": [],
   "source": [
    "y = \"price\" \n",
    "x = df.columns \n",
    "x.remove(y) "
   ]
  },
  {
   "cell_type": "code",
   "execution_count": 80,
   "metadata": {},
   "outputs": [
    {
     "name": "stdout",
     "output_type": "stream",
     "text": [
      "AutoML progress: |████████████████████████████████████████████████████████| 100%\n"
     ]
    }
   ],
   "source": [
    "aml = H2OAutoML(max_runtime_secs=1200, seed=1)\n",
    "aml.train(x=x,y=y, training_frame=train)"
   ]
  },
  {
   "cell_type": "code",
   "execution_count": 69,
   "metadata": {},
   "outputs": [
    {
     "data": {
      "text/html": [
       "<table>\n",
       "<thead>\n",
       "<tr><th>model_id                                           </th><th style=\"text-align: right;\">  mean_residual_deviance</th><th style=\"text-align: right;\">   rmse</th><th style=\"text-align: right;\">   mse</th><th style=\"text-align: right;\">    mae</th><th style=\"text-align: right;\">     rmsle</th></tr>\n",
       "</thead>\n",
       "<tbody>\n",
       "<tr><td>StackedEnsemble_AllModels_AutoML_20200511_195342   </td><td style=\"text-align: right;\">                  308206</td><td style=\"text-align: right;\">555.163</td><td style=\"text-align: right;\">308206</td><td style=\"text-align: right;\">296.247</td><td style=\"text-align: right;\">  0.124841</td></tr>\n",
       "<tr><td>StackedEnsemble_BestOfFamily_AutoML_20200511_195342</td><td style=\"text-align: right;\">                  312369</td><td style=\"text-align: right;\">558.9  </td><td style=\"text-align: right;\">312369</td><td style=\"text-align: right;\">295.413</td><td style=\"text-align: right;\">  0.119341</td></tr>\n",
       "<tr><td>XGBoost_grid__1_AutoML_20200511_195342_model_1     </td><td style=\"text-align: right;\">                  331905</td><td style=\"text-align: right;\">576.112</td><td style=\"text-align: right;\">331905</td><td style=\"text-align: right;\">315.219</td><td style=\"text-align: right;\">nan       </td></tr>\n",
       "<tr><td>XGBoost_grid__1_AutoML_20200511_195342_model_2     </td><td style=\"text-align: right;\">                  353714</td><td style=\"text-align: right;\">594.739</td><td style=\"text-align: right;\">353714</td><td style=\"text-align: right;\">338.183</td><td style=\"text-align: right;\">nan       </td></tr>\n",
       "<tr><td>XGBoost_3_AutoML_20200511_195342                   </td><td style=\"text-align: right;\">                  384995</td><td style=\"text-align: right;\">620.48 </td><td style=\"text-align: right;\">384995</td><td style=\"text-align: right;\">353.32 </td><td style=\"text-align: right;\">nan       </td></tr>\n",
       "<tr><td>GBM_grid__1_AutoML_20200511_195342_model_1         </td><td style=\"text-align: right;\">                  386010</td><td style=\"text-align: right;\">621.297</td><td style=\"text-align: right;\">386010</td><td style=\"text-align: right;\">346.742</td><td style=\"text-align: right;\">nan       </td></tr>\n",
       "<tr><td>DRF_1_AutoML_20200511_195342                       </td><td style=\"text-align: right;\">                  460980</td><td style=\"text-align: right;\">678.955</td><td style=\"text-align: right;\">460980</td><td style=\"text-align: right;\">356.128</td><td style=\"text-align: right;\">  0.135493</td></tr>\n",
       "<tr><td>DeepLearning_1_AutoML_20200511_195342              </td><td style=\"text-align: right;\">                  511258</td><td style=\"text-align: right;\">715.023</td><td style=\"text-align: right;\">511258</td><td style=\"text-align: right;\">413.221</td><td style=\"text-align: right;\">nan       </td></tr>\n",
       "<tr><td>XRT_1_AutoML_20200511_195342                       </td><td style=\"text-align: right;\">                  512526</td><td style=\"text-align: right;\">715.909</td><td style=\"text-align: right;\">512526</td><td style=\"text-align: right;\">371.139</td><td style=\"text-align: right;\">  0.143863</td></tr>\n",
       "<tr><td>XGBoost_2_AutoML_20200511_195342                   </td><td style=\"text-align: right;\">                  626200</td><td style=\"text-align: right;\">791.328</td><td style=\"text-align: right;\">626200</td><td style=\"text-align: right;\">477.015</td><td style=\"text-align: right;\">nan       </td></tr>\n",
       "</tbody>\n",
       "</table>"
      ]
     },
     "metadata": {},
     "output_type": "display_data"
    },
    {
     "data": {
      "text/plain": []
     },
     "execution_count": 69,
     "metadata": {},
     "output_type": "execute_result"
    }
   ],
   "source": [
    "lb = aml.leaderboard\n",
    "lb.head()"
   ]
  },
  {
   "cell_type": "code",
   "execution_count": 84,
   "metadata": {},
   "outputs": [
    {
     "name": "stdout",
     "output_type": "stream",
     "text": [
      "stackedensemble prediction progress: |████████████████████████████████████| 100%\n"
     ]
    },
    {
     "data": {
      "text/html": [
       "<table>\n",
       "<thead>\n",
       "<tr><th style=\"text-align: right;\">  predict</th></tr>\n",
       "</thead>\n",
       "<tbody>\n",
       "<tr><td style=\"text-align: right;\"> 1060.54 </td></tr>\n",
       "<tr><td style=\"text-align: right;\"> 6685.39 </td></tr>\n",
       "<tr><td style=\"text-align: right;\">  810.869</td></tr>\n",
       "<tr><td style=\"text-align: right;\">16109    </td></tr>\n",
       "<tr><td style=\"text-align: right;\">  548.68 </td></tr>\n",
       "<tr><td style=\"text-align: right;\">10348.6  </td></tr>\n",
       "<tr><td style=\"text-align: right;\">  984.505</td></tr>\n",
       "<tr><td style=\"text-align: right;\">  749.195</td></tr>\n",
       "<tr><td style=\"text-align: right;\">10991    </td></tr>\n",
       "<tr><td style=\"text-align: right;\"> 7305.62 </td></tr>\n",
       "</tbody>\n",
       "</table>"
      ]
     },
     "metadata": {},
     "output_type": "display_data"
    },
    {
     "data": {
      "text/plain": []
     },
     "execution_count": 84,
     "metadata": {},
     "output_type": "execute_result"
    }
   ],
   "source": [
    "pred = aml.leader.predict(test)\n",
    "pred.head()"
   ]
  },
  {
   "cell_type": "markdown",
   "metadata": {},
   "source": [
    "As this model seem to have pretty good resluts ... let's try it for real!"
   ]
  },
  {
   "cell_type": "code",
   "execution_count": 87,
   "metadata": {},
   "outputs": [
    {
     "name": "stdout",
     "output_type": "stream",
     "text": [
      "AutoML progress: |████████████████████████████████████████████████████████| 100%\n"
     ]
    }
   ],
   "source": [
    "taml = H2OAutoML(max_runtime_secs=1200, seed=1)\n",
    "taml.train(x=x,y=y, training_frame=df)"
   ]
  },
  {
   "cell_type": "code",
   "execution_count": 93,
   "metadata": {},
   "outputs": [
    {
     "name": "stdout",
     "output_type": "stream",
     "text": [
      "stackedensemble prediction progress: |████████████████████████████████████| 100%\n"
     ]
    },
    {
     "data": {
      "text/html": [
       "<table>\n",
       "<thead>\n",
       "<tr><th style=\"text-align: right;\">  predict</th></tr>\n",
       "</thead>\n",
       "<tbody>\n",
       "<tr><td style=\"text-align: right;\">  155.783</td></tr>\n",
       "<tr><td style=\"text-align: right;\">  659.441</td></tr>\n",
       "<tr><td style=\"text-align: right;\"> 4319.65 </td></tr>\n",
       "<tr><td style=\"text-align: right;\">  155.322</td></tr>\n",
       "<tr><td style=\"text-align: right;\"> 5031.86 </td></tr>\n",
       "<tr><td style=\"text-align: right;\">  158.443</td></tr>\n",
       "<tr><td style=\"text-align: right;\">  157.037</td></tr>\n",
       "<tr><td style=\"text-align: right;\"> 3824.75 </td></tr>\n",
       "<tr><td style=\"text-align: right;\">  134.716</td></tr>\n",
       "<tr><td style=\"text-align: right;\">  155.085</td></tr>\n",
       "</tbody>\n",
       "</table>"
      ]
     },
     "metadata": {},
     "output_type": "display_data"
    },
    {
     "data": {
      "text/plain": []
     },
     "execution_count": 93,
     "metadata": {},
     "output_type": "execute_result"
    }
   ],
   "source": [
    "fpred = taml.leader.predict(df_test)\n",
    "fpred.head()"
   ]
  },
  {
   "cell_type": "code",
   "execution_count": 94,
   "metadata": {},
   "outputs": [],
   "source": [
    "dfpred = fpred.as_data_frame()"
   ]
  },
  {
   "cell_type": "code",
   "execution_count": 95,
   "metadata": {},
   "outputs": [],
   "source": [
    "columns=['id','price']\n",
    "dfpred = dfpred.reset_index(level=0)\n",
    "dfpred.columns = columns"
   ]
  },
  {
   "cell_type": "code",
   "execution_count": 96,
   "metadata": {},
   "outputs": [
    {
     "data": {
      "text/html": [
       "<div>\n",
       "<style scoped>\n",
       "    .dataframe tbody tr th:only-of-type {\n",
       "        vertical-align: middle;\n",
       "    }\n",
       "\n",
       "    .dataframe tbody tr th {\n",
       "        vertical-align: top;\n",
       "    }\n",
       "\n",
       "    .dataframe thead th {\n",
       "        text-align: right;\n",
       "    }\n",
       "</style>\n",
       "<table border=\"1\" class=\"dataframe\">\n",
       "  <thead>\n",
       "    <tr style=\"text-align: right;\">\n",
       "      <th></th>\n",
       "      <th>id</th>\n",
       "      <th>price</th>\n",
       "    </tr>\n",
       "  </thead>\n",
       "  <tbody>\n",
       "    <tr>\n",
       "      <th>0</th>\n",
       "      <td>0</td>\n",
       "      <td>155.782563</td>\n",
       "    </tr>\n",
       "    <tr>\n",
       "      <th>1</th>\n",
       "      <td>1</td>\n",
       "      <td>659.440683</td>\n",
       "    </tr>\n",
       "    <tr>\n",
       "      <th>2</th>\n",
       "      <td>2</td>\n",
       "      <td>4319.645742</td>\n",
       "    </tr>\n",
       "  </tbody>\n",
       "</table>\n",
       "</div>"
      ],
      "text/plain": [
       "   id        price\n",
       "0   0   155.782563\n",
       "1   1   659.440683\n",
       "2   2  4319.645742"
      ]
     },
     "execution_count": 96,
     "metadata": {},
     "output_type": "execute_result"
    }
   ],
   "source": [
    "dfpred.head(3)"
   ]
  },
  {
   "cell_type": "code",
   "execution_count": 97,
   "metadata": {},
   "outputs": [],
   "source": [
    "dfpred.to_csv('../output/sample_submission.csv',index=False)"
   ]
  },
  {
   "cell_type": "code",
   "execution_count": null,
   "metadata": {},
   "outputs": [],
   "source": []
  }
 ],
 "metadata": {
  "kernelspec": {
   "display_name": "Python 3",
   "language": "python",
   "name": "python3"
  },
  "language_info": {
   "codemirror_mode": {
    "name": "ipython",
    "version": 3
   },
   "file_extension": ".py",
   "mimetype": "text/x-python",
   "name": "python",
   "nbconvert_exporter": "python",
   "pygments_lexer": "ipython3",
   "version": "3.7.7"
  }
 },
 "nbformat": 4,
 "nbformat_minor": 4
}
