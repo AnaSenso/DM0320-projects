{
 "cells": [
  {
   "cell_type": "markdown",
   "metadata": {},
   "source": [
    "# Mongo-project"
   ]
  },
  {
   "cell_type": "markdown",
   "metadata": {},
   "source": [
    "## Description\n",
    "### Working with companies data frame"
   ]
  },
  {
   "cell_type": "markdown",
   "metadata": {},
   "source": [
    "- Import the thisng that I'll need"
   ]
  },
  {
   "cell_type": "code",
   "execution_count": 1,
   "metadata": {},
   "outputs": [],
   "source": [
    "from mongofunctions import *\n",
    "import pandas as pd\n",
    "import numpy as np\n",
    "import requests\n",
    "import re\n",
    "from pymongo import MongoClient\n",
    "from pandas.io.json import json_normalize\n",
    "import json\n"
   ]
  },
  {
   "cell_type": "markdown",
   "metadata": {},
   "source": [
    "### Analize what is the most imporatnat caracteristics to acomplish"
   ]
  },
  {
   "cell_type": "code",
   "execution_count": 2,
   "metadata": {},
   "outputs": [
    {
     "data": {
      "text/plain": [
       "{'Account Managers: 23%',\n",
       " 'Backend Developers: 6%',\n",
       " 'CEO/President: 1%',\n",
       " 'Data Engineers: 17%',\n",
       " 'Designers: 23%',\n",
       " 'Executives: 11%',\n",
       " 'Frontend Developers: 11%',\n",
       " 'Maintenance guy that loves basketball: 1%',\n",
       " 'UI/UX Engineers: 6%'}"
      ]
     },
     "execution_count": 2,
     "metadata": {},
     "output_type": "execute_result"
    }
   ],
   "source": [
    "# Pupulation divided by percentage\n",
    "employees= [(20,\"Designers\"),(5, \"UI/UX Engineers\"), (10, \"Frontend Developers\"), (15,\"Data Engineers\"),\n",
    "            (5,\"Backend Developers\"), (20, \"Account Managers\"),(1,\"Maintenance guy that loves basketball\"),\n",
    "            (10,\"Executives\"),(1,\"CEO/President\")]\n",
    "\n",
    "perc = {f\"{e[1]}: {round((e[0]/(sum([e[0] for e in employees]))*100))}%\" for e in employees}\n",
    "perc"
   ]
  },
  {
   "cell_type": "markdown",
   "metadata": {},
   "source": [
    "### Based on this precentages this is the pripority list:\n",
    "    - Companies more than 10-year-old more than 2km ratio (affects 100% of the employees)\n",
    "    - Bar to party (100%)\n",
    "    - School nearby (30%)\n",
    "    - Airport in the city (23%)\n",
    "    - Starbucks near by (11%)    "
   ]
  },
  {
   "cell_type": "markdown",
   "metadata": {},
   "source": [
    "# ===================================="
   ]
  },
  {
   "cell_type": "markdown",
   "metadata": {},
   "source": [
    "## Clean the data base"
   ]
  },
  {
   "cell_type": "markdown",
   "metadata": {},
   "source": [
    "- Import the database from MongoDB and test it"
   ]
  },
  {
   "cell_type": "code",
   "execution_count": 3,
   "metadata": {},
   "outputs": [],
   "source": [
    "client = MongoClient(\"mongodb://localhost/companies\")\n",
    "db = client.get_database()"
   ]
  },
  {
   "cell_type": "code",
   "execution_count": 4,
   "metadata": {},
   "outputs": [],
   "source": [
    "#list(db.companies.find({\"name\":\"Facebook\"},{\"offices\":1}))"
   ]
  },
  {
   "cell_type": "code",
   "execution_count": 5,
   "metadata": {},
   "outputs": [],
   "source": [
    "all_offices = list(db.companies.find({},{\"_id\": 0,\"name\":1,\"category_code\":1, \"offices\":1, \n",
    "                                       \"founded_year\":1,\"total_money_raised\":1}))"
   ]
  },
  {
   "cell_type": "code",
   "execution_count": 6,
   "metadata": {},
   "outputs": [],
   "source": [
    "companydata = pd.DataFrame(all_offices)"
   ]
  },
  {
   "cell_type": "code",
   "execution_count": 7,
   "metadata": {},
   "outputs": [],
   "source": [
    "companydata = companydata.explode(\"offices\")"
   ]
  },
  {
   "cell_type": "code",
   "execution_count": 8,
   "metadata": {},
   "outputs": [],
   "source": [
    "cleaned_offices = companydata.apply(officeToGeoPoint,axis=1, result_type=\"expand\")\n",
    "cleaned_offices.columns = [\"office\",\"clean_state\"]"
   ]
  },
  {
   "cell_type": "markdown",
   "metadata": {},
   "source": [
    "- Get the address of the offices"
   ]
  },
  {
   "cell_type": "code",
   "execution_count": 9,
   "metadata": {},
   "outputs": [],
   "source": [
    "young_off = list(db.companies.aggregate([{\"$unwind\":\"$offices\"},\n",
    "                                    {\"$project\":{\"name\":1,\"founded_year\":1,\"category_code\":1,\n",
    "                                                 \"total_money_raised\":1,\"offices\":1}}]))\n",
    "young_offices = pd.DataFrame(young_off)\n",
    "y_off = young_offices.apply(officeToAddress,axis=1, result_type=\"expand\")"
   ]
  },
  {
   "cell_type": "code",
   "execution_count": 10,
   "metadata": {},
   "outputs": [],
   "source": [
    "finall = pd.concat([companydata,cleaned_offices,y_off], axis = 1, sort=False)"
   ]
  },
  {
   "cell_type": "code",
   "execution_count": 11,
   "metadata": {},
   "outputs": [],
   "source": [
    "finall_offi = finall.rename(columns={\"office\": \"geopoint\",\n",
    "                                    0: \"address\",\n",
    "                                    1: \"city\"})"
   ]
  },
  {
   "cell_type": "markdown",
   "metadata": {},
   "source": [
    "- Get the coordenates of each office"
   ]
  },
  {
   "cell_type": "code",
   "execution_count": 12,
   "metadata": {},
   "outputs": [],
   "source": [
    "y_geo = young_offices.apply(officeToLatLong,axis=1, result_type=\"reduce\")\n",
    "final = pd.concat([finall_offi,y_geo], axis = 1, sort=False)"
   ]
  },
  {
   "cell_type": "code",
   "execution_count": 13,
   "metadata": {},
   "outputs": [],
   "source": [
    "final_off = final.rename(columns={0: \"geocoord\"})"
   ]
  },
  {
   "cell_type": "markdown",
   "metadata": {},
   "source": [
    "- Select just the offices that have a valid data for:\n",
    "    - Adress\n",
    "    - Founded year\n",
    "    - City\n",
    "    - Geo-coordenates"
   ]
  },
  {
   "cell_type": "code",
   "execution_count": 14,
   "metadata": {},
   "outputs": [
    {
     "name": "stdout",
     "output_type": "stream",
     "text": [
      "9122\n",
      "4157\n"
     ]
    }
   ],
   "source": [
    "# comp = complete.drop(complete[complete.founded_year < 2010].index)\n",
    "comple = final_off.dropna(subset=[\"founded_year\",\"total_money_raised\",\"geopoint\"])\n",
    "complet = comple.drop_duplicates(subset='geocoord')\n",
    "print(len(comple))\n",
    "print(len(complet))"
   ]
  },
  {
   "cell_type": "markdown",
   "metadata": {},
   "source": [
    "\n",
    "## Select office locations based on the conditions decided before"
   ]
  },
  {
   "cell_type": "markdown",
   "metadata": {},
   "source": [
    "- Companies that have been founded less than 10 years ago"
   ]
  },
  {
   "cell_type": "code",
   "execution_count": 15,
   "metadata": {},
   "outputs": [
    {
     "name": "stdout",
     "output_type": "stream",
     "text": [
      "22\n"
     ]
    }
   ],
   "source": [
    "# Select just the places that have raised at least 1 million and are less than 10 year old\n",
    "y_offices = complet.loc[complet['founded_year'] > 2010]\n",
    "print(len(y_offices))"
   ]
  },
  {
   "cell_type": "markdown",
   "metadata": {},
   "source": [
    "- To exclude the old companies I need to create a database of all companies founded more than 10 years ago"
   ]
  },
  {
   "cell_type": "code",
   "execution_count": 16,
   "metadata": {},
   "outputs": [
    {
     "name": "stdout",
     "output_type": "stream",
     "text": [
      "4135\n"
     ]
    }
   ],
   "source": [
    "# Select just companies fonded before 2010 to compare this database ans exclude locations near by\n",
    "old_off = complet.loc[complet['founded_year'] <= 2010]\n",
    "print(len(old_off))"
   ]
  },
  {
   "cell_type": "code",
   "execution_count": 17,
   "metadata": {},
   "outputs": [],
   "source": [
    "#y_offices.to_json(\"../input/y_offices.json\", orient=\"records\")\n",
    "#design_off.to_json(\"../input/design_off.json\", orient=\"records\")\n",
    "old_off.to_json(\"../input/old_off.json\", orient=\"records\")"
   ]
  },
  {
   "cell_type": "markdown",
   "metadata": {},
   "source": [
    "### Analize compare the dataframe with the employees needs"
   ]
  },
  {
   "cell_type": "markdown",
   "metadata": {},
   "source": [
    "- Compare the possible locations with the **old companies** database"
   ]
  },
  {
   "cell_type": "code",
   "execution_count": 18,
   "metadata": {},
   "outputs": [],
   "source": [
    "# I tried to do it with adress, but it was not possible because geocode.xys takes to long and returns many errors\n",
    "y_address = list(''.join(e) for e in zip(y_offices['address'],y_offices['city']))"
   ]
  },
  {
   "cell_type": "code",
   "execution_count": 19,
   "metadata": {},
   "outputs": [],
   "source": [
    "# So I decided to do it creating the geopints myself\n",
    "points = list([e for e in y_offices['geopoint']])\n",
    "point_list = list([pointNear(p) for p in points])"
   ]
  },
  {
   "cell_type": "code",
   "execution_count": 20,
   "metadata": {},
   "outputs": [],
   "source": [
    "# I had to create index for the data base and import i tagain -->db.old_off.createIndex( { geometry : \"2dsphere\" } )\n",
    "client = MongoClient(\"mongodb://localhost/old_off\")\n",
    "db = client.get_database()"
   ]
  },
  {
   "cell_type": "code",
   "execution_count": 21,
   "metadata": {},
   "outputs": [
    {
     "data": {
      "text/plain": [
       "{'there are NO old offices near by'}"
      ]
     },
     "execution_count": 21,
     "metadata": {},
     "output_type": "execute_result"
    }
   ],
   "source": [
    "checkoffclose = set([ckeck2km(db.old_off,e,'old offices') for e in point_list])\n",
    "checkoffclose"
   ]
  },
  {
   "cell_type": "markdown",
   "metadata": {},
   "source": [
    "- Check if there is a **bar** 500m near, for employees to go party"
   ]
  },
  {
   "cell_type": "code",
   "execution_count": 22,
   "metadata": {},
   "outputs": [
    {
     "name": "stdout",
     "output_type": "stream",
     "text": [
      "This companies do has a bar near by: ['PeekYou', 'headr', 'Fixya', 'RazorGator', 'Skydeck', 'FirstString', 'SEOGroup', 'Advisor', 'Non-Member Films', 'Kidos', 'Clowdy', 'Queralt', 'LoveAccess', 'RipCloud', 'Plug in SEO', 'Shopseen']\n",
      "This companies does NOT has a bar near by: ['Fuzz', 'Carfeine', 'Ziippi', 'Pixelmatic', 'Cyphercor', 'Fliggo']\n"
     ]
    },
    {
     "data": {
      "text/plain": [
       "16"
      ]
     },
     "execution_count": 22,
     "metadata": {},
     "output_type": "execute_result"
    }
   ],
   "source": [
    "y_off_bar = checkNear(y_offices,500,\"bar\")\n",
    "len(y_off_bar)"
   ]
  },
  {
   "cell_type": "markdown",
   "metadata": {},
   "source": [
    "- Check wich of the locations has a **school** 1KM near"
   ]
  },
  {
   "cell_type": "code",
   "execution_count": 23,
   "metadata": {},
   "outputs": [
    {
     "name": "stdout",
     "output_type": "stream",
     "text": [
      "This companies do has a elementary school near by: ['PeekYou', 'headr', 'Fixya', 'RazorGator', 'Skydeck', 'Advisor', 'Non-Member Films', 'Kidos', 'Clowdy', 'Queralt', 'LoveAccess', 'Plug in SEO', 'Shopseen']\n",
      "This companies does NOT has a elementary school near by: ['FirstString', 'SEOGroup', 'RipCloud']\n"
     ]
    },
    {
     "data": {
      "text/plain": [
       "13"
      ]
     },
     "execution_count": 23,
     "metadata": {},
     "output_type": "execute_result"
    }
   ],
   "source": [
    "y_off_school = checkNear(y_off_bar,1000,\"elementary school\")\n",
    "len(y_off_school)"
   ]
  },
  {
   "cell_type": "markdown",
   "metadata": {},
   "source": [
    "- Check if there is a **Starbuck** 100 near, because exacutives likes a lot Starbucks coffee"
   ]
  },
  {
   "cell_type": "code",
   "execution_count": 24,
   "metadata": {},
   "outputs": [
    {
     "name": "stdout",
     "output_type": "stream",
     "text": [
      "This companies do has a Starbucks near by: ['PeekYou', 'headr', 'RazorGator', 'Clowdy', 'LoveAccess', 'Plug in SEO', 'Shopseen']\n",
      "This companies does NOT has a Starbucks near by: ['Fixya', 'Skydeck', 'Advisor', 'Non-Member Films', 'Kidos', 'Queralt']\n"
     ]
    },
    {
     "data": {
      "text/plain": [
       "7"
      ]
     },
     "execution_count": 24,
     "metadata": {},
     "output_type": "execute_result"
    }
   ],
   "source": [
    "y_off_sands= checkNear(y_off_school,100,\"Starbucks\")\n",
    "len(y_off_sands)"
   ]
  },
  {
   "cell_type": "markdown",
   "metadata": {},
   "source": [
    "- Validate if there is an **Airport** in the proposed cities"
   ]
  },
  {
   "cell_type": "code",
   "execution_count": 25,
   "metadata": {},
   "outputs": [],
   "source": [
    "airports = pd.read_csv('../input/airports2.csv', encoding='latin-1', error_bad_lines=False)\n",
    "airports[[\"airport_name\", \"City\", \"Country\", \"airport_code\",\" \",\"Latitude\", \"Longitude\"\n",
    "         ]] = airports[\"airport_name;City;Country;airport_code;;Latitude;Longitude\"].str.split(\";\",expand=True)\n",
    "\n",
    "airp = airports.drop(['airport_name;City;Country;airport_code;;Latitude;Longitude', 'airport_code'], axis=1)\n",
    "airp_cities = set(map(str.strip, list(e for e in airp['City'])))"
   ]
  },
  {
   "cell_type": "code",
   "execution_count": 26,
   "metadata": {},
   "outputs": [
    {
     "name": "stdout",
     "output_type": "stream",
     "text": [
      "These companies are in cities with airport: ['Cambridge', 'New York', 'Washington', 'Chicago', 'Vancouver']\n",
      "These companies are in cities tha DON'T have airport:['Sausalito', 'Bracknell']\n"
     ]
    }
   ],
   "source": [
    "airp_cities = set(map(str.strip, list(e for e in airp['City'])))\n",
    "airport = []\n",
    "noairport = []\n",
    "for i,e in y_off_sands.iterrows():\n",
    "    if y_off_sands['city'][i] in airp_cities:\n",
    "        airport.append(y_off_sands['city'][i])\n",
    "    else:\n",
    "        noairport.append(y_off_sands['city'][i])\n",
    "print(f\"These companies are in cities with airport: {airport}\")\n",
    "print(f\"These companies are in cities tha DON'T have airport:{noairport}\")"
   ]
  },
  {
   "cell_type": "code",
   "execution_count": 27,
   "metadata": {},
   "outputs": [
    {
     "data": {
      "text/plain": [
       "5"
      ]
     },
     "execution_count": 27,
     "metadata": {},
     "output_type": "execute_result"
    }
   ],
   "source": [
    "# Dorp locations that does not have a starbucks near\n",
    "noairp = ['Sausalito', 'Bracknell']\n",
    "y_airp = y_off_sands[~y_off_sands['city'].isin(noairp)]\n",
    "len(y_airp)"
   ]
  },
  {
   "cell_type": "markdown",
   "metadata": {},
   "source": [
    "## There are 5 possible places lets represent them in a map"
   ]
  },
  {
   "cell_type": "code",
   "execution_count": 28,
   "metadata": {},
   "outputs": [],
   "source": [
    "# Clean the data frame\n",
    "clean = y_airp.drop(columns=['category_code', 'founded_year','total_money_raised','offices','clean_state'])\n",
    "clean['type']= 'Company'\n",
    "clean.to_json(\"../output/clean.json\", orient=\"records\")"
   ]
  },
  {
   "cell_type": "code",
   "execution_count": 29,
   "metadata": {},
   "outputs": [],
   "source": [
    "bares = getPlaces(clean,'bar')\n",
    "schools = getPlaces(clean,'elementary school')\n",
    "starbucks = getPlaces(clean,'Starbucks')\n",
    "aeropuertos = getPlaces(clean,'airport')"
   ]
  },
  {
   "cell_type": "code",
   "execution_count": 30,
   "metadata": {},
   "outputs": [],
   "source": [
    "bares1 = pd.DataFrame(bares)\n",
    "bares1['type']= 'Bar'\n",
    "schools1 = pd.DataFrame(schools)\n",
    "schools1['type']= 'School'\n",
    "starbucks1 = pd.DataFrame(starbucks)\n",
    "starbucks1['type']= 'Starbucks'\n",
    "aeropuertos1 = pd.DataFrame(aeropuertos)\n",
    "aeropuertos1['type']= 'Airports'\n",
    "all_places = pd.concat([bares1,schools1,starbucks1,aeropuertos1], axis = 0, sort=False)\n",
    "all_places.to_json(\"../input/all_places.json\", orient=\"records\")"
   ]
  },
  {
   "cell_type": "markdown",
   "metadata": {},
   "source": [
    "# The best places to grow is near to the following locations:"
   ]
  },
  {
   "cell_type": "code",
   "execution_count": 31,
   "metadata": {},
   "outputs": [
    {
     "data": {
      "text/plain": [
       "[('17 Dunster Street', 'Cambridge'),\n",
       " ('770 Broadway', 'New York'),\n",
       " ('2445 M St NW', 'Washington'),\n",
       " ('200 South Wacker Drive', 'Chicago'),\n",
       " ('700 - 1112 West Pender St.', 'Vancouver')]"
      ]
     },
     "execution_count": 31,
     "metadata": {},
     "output_type": "execute_result"
    }
   ],
   "source": [
    "lista = [(clean['address'][i],clean['city'][i]) for i,e in clean.iterrows()]\n",
    "lista"
   ]
  },
  {
   "cell_type": "markdown",
   "metadata": {},
   "source": [
    "To see the exact location in a map in Tableau click in this [link](https://public.tableau.com/profile/ana8098#!/vizhome/Mongo-project-places/Sheet1?publish=yes)"
   ]
  },
  {
   "cell_type": "markdown",
   "metadata": {},
   "source": [
    " "
   ]
  },
  {
   "cell_type": "markdown",
   "metadata": {},
   "source": [
    "To see the locations near by in a map, clik in this [link](https://public.tableau.com/profile/ana8098#!/vizhome/Mongo-project-nearby/Sheet2?publish=yes)"
   ]
  },
  {
   "cell_type": "markdown",
   "metadata": {},
   "source": [
    "--------------------------------------------------"
   ]
  },
  {
   "cell_type": "markdown",
   "metadata": {},
   "source": [
    "- Rest of conditions:\n",
    "    - Designers like to go to design talks and share knowledge. There must be some nearby companies that also do design.\n",
    "    - Developers like to be near successful tech startups that have raised at least 1 Million dollars.\n",
    "    - The CEO is Vegan"
   ]
  }
 ],
 "metadata": {
  "kernelspec": {
   "display_name": "Python 3",
   "language": "python",
   "name": "python3"
  },
  "language_info": {
   "codemirror_mode": {
    "name": "ipython",
    "version": 3
   },
   "file_extension": ".py",
   "mimetype": "text/x-python",
   "name": "python",
   "nbconvert_exporter": "python",
   "pygments_lexer": "ipython3",
   "version": "3.7.7"
  }
 },
 "nbformat": 4,
 "nbformat_minor": 4
}
