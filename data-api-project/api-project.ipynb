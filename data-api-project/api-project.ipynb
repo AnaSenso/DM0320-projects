{
 "cells": [
  {
   "cell_type": "markdown",
   "metadata": {},
   "source": [
    "# Api project"
   ]
  },
  {
   "cell_type": "markdown",
   "metadata": {},
   "source": [
    "### Import the import-ant things"
   ]
  },
  {
   "cell_type": "code",
   "execution_count": 180,
   "metadata": {},
   "outputs": [],
   "source": [
    "import requests"
   ]
  },
  {
   "cell_type": "code",
   "execution_count": 181,
   "metadata": {},
   "outputs": [],
   "source": [
    "from src.app import app\n",
    "from src.user import *\n",
    "from src.chat import *\n",
    "from src.sentanalyzer import *\n",
    "from src.errorHand import *"
   ]
  },
  {
   "cell_type": "markdown",
   "metadata": {},
   "source": [
    "## User endpoints"
   ]
  },
  {
   "cell_type": "code",
   "execution_count": 182,
   "metadata": {},
   "outputs": [
    {
     "name": "stdout",
     "output_type": "stream",
     "text": [
      "Introduce a name: Draco\n"
     ]
    }
   ],
   "source": [
    "name = input('Introduce a name: ')"
   ]
  },
  {
   "cell_type": "markdown",
   "metadata": {},
   "source": [
    "1. Look for an existing user"
   ]
  },
  {
   "cell_type": "code",
   "execution_count": 183,
   "metadata": {},
   "outputs": [
    {
     "data": {
      "text/plain": [
       "{'Chat': ['Classmates', 'TVLovers'], 'Name': 'Draco', 'User ID': 1}"
      ]
     },
     "execution_count": 183,
     "metadata": {},
     "output_type": "execute_result"
    }
   ],
   "source": [
    "requests.get(f\"http://localhost:3210/user/{name}\").json()"
   ]
  },
  {
   "cell_type": "markdown",
   "metadata": {},
   "source": [
    "2. Create a new user"
   ]
  },
  {
   "cell_type": "code",
   "execution_count": 166,
   "metadata": {},
   "outputs": [
    {
     "name": "stdout",
     "output_type": "stream",
     "text": [
      "Introduce a name: Voldemort\n"
     ]
    }
   ],
   "source": [
    "new_name = input('Introduce a name: ')"
   ]
  },
  {
   "cell_type": "code",
   "execution_count": 168,
   "metadata": {},
   "outputs": [
    {
     "data": {
      "text/plain": [
       "{'Yay!': 'You have created a new user',\n",
       " 'info': '{\"user\": \"Voldemort\", \"user_id\": 8, \"_id\": {\"$oid\": \"5eadcdb7ede3e2b3784fe2bc\"}}'}"
      ]
     },
     "execution_count": 168,
     "metadata": {},
     "output_type": "execute_result"
    }
   ],
   "source": [
    "requests.get(f\"http://localhost:3210/user/create/{new_name}\").json()"
   ]
  },
  {
   "cell_type": "code",
   "execution_count": 173,
   "metadata": {},
   "outputs": [
    {
     "data": {
      "text/plain": [
       "{'Error': 'This User already exists',\n",
       " 'info': '{\"_id\": {\"$oid\": \"5eaaf073933fe59b20e5e3b9\"}, \"user\": \"Draco\", \"user_id\": 1}'}"
      ]
     },
     "execution_count": 173,
     "metadata": {},
     "output_type": "execute_result"
    }
   ],
   "source": [
    "requests.get(f\"http://localhost:3210/user/create/{name}\").json()"
   ]
  },
  {
   "cell_type": "markdown",
   "metadata": {},
   "source": [
    "3. Recommend friends to an existing user"
   ]
  },
  {
   "cell_type": "code",
   "execution_count": 174,
   "metadata": {},
   "outputs": [
    {
     "data": {
      "text/plain": [
       "{'The users that have more in commun with Draco are': '[\"Parvati\", \"Hagrid\", \"Harry\"]'}"
      ]
     },
     "execution_count": 174,
     "metadata": {},
     "output_type": "execute_result"
    }
   ],
   "source": [
    "requests.get(f\"http://localhost:3210/user/{name}/recommend\").json()"
   ]
  },
  {
   "cell_type": "markdown",
   "metadata": {},
   "source": [
    "4. User sentiment analysis"
   ]
  },
  {
   "cell_type": "code",
   "execution_count": 175,
   "metadata": {},
   "outputs": [
    {
     "data": {
      "text/plain": [
       "{'Sent Socres': {'compound': -0.9178,\n",
       "  'neg': 0.201,\n",
       "  'neu': 0.753,\n",
       "  'pos': 0.046},\n",
       " 'name': 'Draco'}"
      ]
     },
     "execution_count": 175,
     "metadata": {},
     "output_type": "execute_result"
    }
   ],
   "source": [
    "requests.get(f\"http://localhost:3210/user/{name}/sentiment\").json()"
   ]
  },
  {
   "cell_type": "markdown",
   "metadata": {},
   "source": [
    "   \n",
    "   \n",
    "  "
   ]
  },
  {
   "cell_type": "markdown",
   "metadata": {},
   "source": [
    "\n",
    "\n",
    "\n",
    "\n",
    "## Chat endpoints"
   ]
  },
  {
   "cell_type": "markdown",
   "metadata": {},
   "source": [
    "1. Create chat"
   ]
  },
  {
   "cell_type": "code",
   "execution_count": 176,
   "metadata": {},
   "outputs": [
    {
     "data": {
      "text/plain": [
       "{'Chat ID': 4,\n",
       " 'Chat name': 'Moritfagos',\n",
       " 'With the users': ['Lucius', 'Peter', 'Avery'],\n",
       " 'Yay!': 'You have created a new chat'}"
      ]
     },
     "execution_count": 176,
     "metadata": {},
     "output_type": "execute_result"
    }
   ],
   "source": [
    "requests.get(f\"http://localhost:3210/chat/create?name=Moritfagos&user=Lucius&user=Peter&user=Avery\").json()"
   ]
  },
  {
   "cell_type": "code",
   "execution_count": 179,
   "metadata": {},
   "outputs": [
    {
     "data": {
      "text/plain": [
       "{'Sorry, this chat already exist': '\"Moritfagos\"',\n",
       " 'To create a new one': 'choose another name'}"
      ]
     },
     "execution_count": 179,
     "metadata": {},
     "output_type": "execute_result"
    }
   ],
   "source": [
    "requests.get(f\"http://localhost:3210/chat/create?name=Moritfagos&user=Amico&user=Alecto&user=Crabe&user=Goyle\").json()"
   ]
  },
  {
   "cell_type": "markdown",
   "metadata": {},
   "source": [
    "2. Add message to the conversation"
   ]
  },
  {
   "cell_type": "code",
   "execution_count": 140,
   "metadata": {},
   "outputs": [
    {
     "name": "stdout",
     "output_type": "stream",
     "text": [
      "Chat ID: 2\n"
     ]
    }
   ],
   "source": [
    "chat_id = input('Chat ID: ')"
   ]
  },
  {
   "cell_type": "code",
   "execution_count": 141,
   "metadata": {},
   "outputs": [
    {
     "name": "stdout",
     "output_type": "stream",
     "text": [
      "User ID: 3\n"
     ]
    }
   ],
   "source": [
    "userid = input('User ID: ')"
   ]
  },
  {
   "cell_type": "code",
   "execution_count": 142,
   "metadata": {},
   "outputs": [
    {
     "name": "stdout",
     "output_type": "stream",
     "text": [
      "Message: Nice\n"
     ]
    }
   ],
   "source": [
    "message = input('Message: ')"
   ]
  },
  {
   "cell_type": "code",
   "execution_count": 143,
   "metadata": {},
   "outputs": [
    {
     "data": {
      "text/plain": [
       "{'You have introduced this message': '{\"user\": \"Padma\", \"user_id\": \"3\", \"quote\": \"Nice\", \"chat\": \"TVLovers\", \"chat_id\": 2, \"_id\": {\"$oid\": \"5eadc889a5f9b86f912e3165\"}}'}"
      ]
     },
     "execution_count": 143,
     "metadata": {},
     "output_type": "execute_result"
    }
   ],
   "source": [
    "requests.get(f\"http://localhost:3210/chat/{chat_id}/addmessage?userid={userid}&mess={message}\").json()"
   ]
  },
  {
   "cell_type": "markdown",
   "metadata": {},
   "source": [
    "3. Get all messages from chat id"
   ]
  },
  {
   "cell_type": "code",
   "execution_count": 144,
   "metadata": {},
   "outputs": [
    {
     "name": "stdout",
     "output_type": "stream",
     "text": [
      "Introduce a chat_id: 3\n"
     ]
    }
   ],
   "source": [
    "chat_id = input('Introduce a chat_id: ')"
   ]
  },
  {
   "cell_type": "code",
   "execution_count": 150,
   "metadata": {},
   "outputs": [
    {
     "data": {
      "text/plain": [
       "{'This is the conversation of the chat PrivateChat': '[{\"user\": \"Parvati\", \"quote\": \"Oh men, I was looking for a job and I couldn\\'t find anything for more than $800\", \"chat\": \"PrivateChat\"}, {\"user\": \"Hagrid\", \"quote\": \"What kind of job are you looking for? They are hiring in boyfriend\\'s company\", \"chat\": \"PrivateChat\"}, {\"user\": \"Parvati\", \"quote\": \"Really? I\\'m physical trainer, but I can do whatever. I really need some money to take care of my dogs\", \"chat\": \"PrivateChat\"}, {\"user\": \"Hagrid\", \"quote\": \"I not sure, but I think they need some people to make some calls\", \"chat\": \"PrivateChat\"}, {\"user\": \"Parvati\", \"quote\": \"what kind of calls? it can be anything: selling calls, buying calls, sex calls ...\", \"chat\": \"PrivateChat\"}, {\"user\": \"Hagrid\", \"quote\": \"Hahahaha, I have no idea. I\\'m going to give him your contact info and he can tell you better\", \"chat\": \"PrivateChat\"}, {\"user\": \"Parvati\", \"quote\": \"Yes, please! You are the best! I can\\'t love you more :)\", \"chat\": \"PrivateChat\"}]'}"
      ]
     },
     "execution_count": 150,
     "metadata": {},
     "output_type": "execute_result"
    }
   ],
   "source": [
    "requests.get(f\"http://localhost:3210/chat/{chat_id}/list\").json()"
   ]
  },
  {
   "cell_type": "code",
   "execution_count": 151,
   "metadata": {},
   "outputs": [
    {
     "name": "stdout",
     "output_type": "stream",
     "text": [
      "Introduce a chat_id: 7\n"
     ]
    }
   ],
   "source": [
    "otherchat_id = input('Introduce a chat_id: ')"
   ]
  },
  {
   "cell_type": "code",
   "execution_count": 152,
   "metadata": {},
   "outputs": [
    {
     "data": {
      "text/plain": [
       "{'Sorry, the chat 7 does not exist. The vailable chats are': '[1, 2, 3]'}"
      ]
     },
     "execution_count": 152,
     "metadata": {},
     "output_type": "execute_result"
    }
   ],
   "source": [
    "requests.get(f\"http://localhost:3210/chat/{otherchat_id}/list\").json()"
   ]
  },
  {
   "cell_type": "markdown",
   "metadata": {},
   "source": [
    "4. Get the sentiment from the chat conversation"
   ]
  },
  {
   "cell_type": "code",
   "execution_count": 153,
   "metadata": {},
   "outputs": [
    {
     "data": {
      "text/plain": [
       "{'The sentiment in this conversation is': '{\"neg\": 0.077, \"neu\": 0.813, \"pos\": 0.111, \"compound\": 0.7491}'}"
      ]
     },
     "execution_count": 153,
     "metadata": {},
     "output_type": "execute_result"
    }
   ],
   "source": [
    "requests.get(f\"http://localhost:3210/chat/{chat_id}/sentiment\").json()"
   ]
  },
  {
   "cell_type": "code",
   "execution_count": null,
   "metadata": {},
   "outputs": [],
   "source": []
  }
 ],
 "metadata": {
  "kernelspec": {
   "display_name": "Python 3",
   "language": "python",
   "name": "python3"
  },
  "language_info": {
   "codemirror_mode": {
    "name": "ipython",
    "version": 3
   },
   "file_extension": ".py",
   "mimetype": "text/x-python",
   "name": "python",
   "nbconvert_exporter": "python",
   "pygments_lexer": "ipython3",
   "version": "3.7.7"
  }
 },
 "nbformat": 4,
 "nbformat_minor": 4
}
